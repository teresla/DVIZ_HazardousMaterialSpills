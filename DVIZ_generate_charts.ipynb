{
 "cells": [
  {
   "cell_type": "code",
   "execution_count": 1,
   "metadata": {},
   "outputs": [],
   "source": [
    "import os\n",
    "import base64\n",
    "import folium\n",
    "import numpy as np\n",
    "import pandas as pd\n",
    "\n",
    "import matplotlib.pyplot as plt\n",
    "import plotly.express as px\n",
    "import plotly.graph_objects as go\n",
    "from plotly.subplots import make_subplots"
   ]
  },
  {
   "cell_type": "code",
   "execution_count": 2,
   "metadata": {},
   "outputs": [],
   "source": [
    "# CONSTANTS\n",
    "MATERIALS = ['Hazardous Material', 'Other', 'Oxygenates', 'Petroleum', 'raw sewage']\n",
    "\n",
    "MIN_CIRCLE_SIZE = 7\n",
    "MAX_CIRCLE_SIZE = 70\n",
    "TOP_THRESHOLD = 3\n",
    "LEGEND_HTML = '''\n",
    "<div style=\"position: fixed; bottom: 30px; left: 30px; width: 170px; height: 130px; \n",
    "background-color: white; border:2px solid grey; z-index:9999; font-size:14px;\">\n",
    "    &nbsp; Other &nbsp; <i class=\"fa fa-circle fa-1x\" style=\"color:#4682B4\"></i><br>\n",
    "    &nbsp; Petroleum &nbsp; <i class=\"fa fa-circle fa-1x\" style=\"color:#8B4513\"></i><br>\n",
    "    &nbsp; Hazardous Material &nbsp; <i class=\"fa fa-circle fa-1x\" style=\"color:#D02090\"></i><br>\n",
    "    &nbsp; Oxygenates &nbsp; <i class=\"fa fa-circle fa-1x\" style=\"color:#40E0D0\"></i>\n",
    "</div>'''\n",
    "LARGEST_MATERIAL = 'raw sewage'\n",
    "\n",
    "QUANTITY_LABELS = ['Major\\n(>1000L)', 'Large', 'Minor\\n(<30L)']\n",
    "COLORS = {\n",
    "    'raw sewage': '#556B2F',           # Dark Olive Green\n",
    "    'Other': '#4682B4',               # Steel Blue\n",
    "    'Petroleum': '#8B4513',           # Saddle Brown\n",
    "    'Hazardous Material': '#D02090',  # Violet Red\n",
    "    'Oxygenates': '#40E0D0'          # Turquoise\n",
    "}\n",
    "\n",
    "# Style\n",
    "# Adjusted Style\n",
    "box_style = {'boxstyle': 'round', 'facecolor': 'lightgrey', 'alpha': 0.7, 'edgecolor': 'none'}\n",
    "text_style = {'verticalalignment': 'top', 'color': 'black', 'bbox': box_style}\n",
    "legend_style = {'fontsize': 11, 'edgecolor': 'none', 'facecolor': 'lightgrey'}\n",
    "style_title = {'fontsize': 17, 'fontweight': 'normal'}"
   ]
  },
  {
   "cell_type": "code",
   "execution_count": 3,
   "metadata": {},
   "outputs": [],
   "source": [
    "# Helper functions\n",
    "def calc_plotline(colunms):\n",
    "    z = np.polyfit(colunms.index, colunms.values, 1)\n",
    "    p = np.poly1d(z)\n",
    "    return p\n",
    "\n",
    "def assign_group(quantity):\n",
    "    # Define the thresholds for each group\n",
    "    major_threshold = 1000  # Example threshold for 'Major' spills\n",
    "    large_threshold = 31   # Example threshold for 'Large' spills\n",
    "    # Assume anything below the 'large_threshold' is 'Minor'\n",
    "\n",
    "    if quantity >= major_threshold:\n",
    "        return QUANTITY_LABELS[0]\n",
    "    elif quantity >= large_threshold:\n",
    "        return QUANTITY_LABELS[1]\n",
    "    else:\n",
    "        return QUANTITY_LABELS[2]\n",
    "    \n",
    "# Create and save a piechart\n",
    "def create_pie_chart(county, data, file_path):\n",
    "    fig = go.Figure(data=[go.Pie(\n",
    "        labels=list(data.keys()),\n",
    "        values=list(data.values()),\n",
    "        hole=0.4,\n",
    "        marker_colors=[COLORS.get(material, \"#333333\") for material in data.keys()],\n",
    "        textinfo='none'\n",
    "    )])\n",
    "\n",
    "    fig.update_layout(\n",
    "        showlegend=False,\n",
    "        margin=dict(t=0, b=0, l=0, r=0),\n",
    "        paper_bgcolor='rgba(0,0,0,0)',\n",
    "        annotations=[dict(\n",
    "            text=county,\n",
    "            x=0.5, y=0.5,\n",
    "            font_size=50,\n",
    "            showarrow=False\n",
    "        )]\n",
    "    )\n",
    "\n",
    "    fig.write_image(file_path, format=\"svg\", width=350, height=350)\n",
    "\n",
    "def add_circle_and_marker(map_object, center_coords, radius, color, text):\n",
    "\n",
    "    # Add a circle to the map\n",
    "    folium.Circle(\n",
    "        location=center_coords,\n",
    "        radius=radius,\n",
    "        color=color,\n",
    "        fill=True,\n",
    "        fill_opacity=0.2,\n",
    "        fill_color=color,\n",
    "    ).add_to(map_object)\n",
    "\n",
    "    # Clean text to remove line breaks and display it in one line\n",
    "    cleaned_text = text.replace('\\n', ' ')\n",
    "\n",
    "    # Add a marker with text to the map\n",
    "    folium.Marker(\n",
    "        location=center_coords,\n",
    "        icon=folium.DivIcon(html=f'<div style=\"font-size: 12pt; color: black; white-space: nowrap;\">{cleaned_text}</div>')\n",
    "    ).add_to(map_object)\n",
    "\n",
    "\n",
    "\n",
    "def add_background_color(fig, domain, color):\n",
    "    fig.add_shape(\n",
    "        type=\"rect\",\n",
    "        xref=\"paper\", yref=\"paper\",\n",
    "        x0=domain[0], y0=0, x1=domain[1], y1=1,\n",
    "        fillcolor=color,\n",
    "        layer=\"below\",\n",
    "        line_width=0,\n",
    "    )"
   ]
  },
  {
   "cell_type": "code",
   "execution_count": 4,
   "metadata": {},
   "outputs": [],
   "source": [
    "# Viz.1: DATA PREP & CONSTANTS\n",
    "spills = pd.read_csv('Spill_Incidents_cleaned_since_1990_with_centroids.csv')\n",
    "\n",
    "# Add year column\n",
    "spills['Spill Date'] = pd.to_datetime(spills['Spill Date'])\n",
    "spills['Spill Year'] = spills['Spill Date'].dt.year\n",
    "\n",
    "# Group data by 'Spill Year' and 'Material Family'\n",
    "spill_count_by_year_family = spills.groupby(['Spill Year', 'Material Family']).size().unstack(fill_value=0)\n",
    "\n",
    "# Variables for viz\n",
    "colors = [COLORS.get(x, \"#333333\") for x in spill_count_by_year_family.columns]\n",
    "common_material = spills[\"Material Family\"].mode()[0]\n",
    "median_quantity = spills[spills[\"Material Family\"] == common_material][\"Quantity\"].median()"
   ]
  },
  {
   "cell_type": "code",
   "execution_count": 5,
   "metadata": {},
   "outputs": [
    {
     "data": {
      "image/png": "[encoded data removed]",
      "text/plain": [
       "<Figure size 1500x700 with 1 Axes>"
      ]
     },
     "metadata": {},
     "output_type": "display_data"
    }
   ],
   "source": [
    "# Viz.1: Boxplot of Spill Quantity by Material Family TODO: Trendline\n",
    "\n",
    "with plt.style.context(\"seaborn-v0_8\"):\n",
    "    fig, ax = plt.subplots(figsize=(15, 7))\n",
    "    spill_count_by_year_family.plot(kind='bar', ax=ax, width=1.0, color=COLORS, zorder=0)\n",
    "\n",
    "    # Setting title, labels, and custom fonts\n",
    "    ax.set_xlabel('')\n",
    "\n",
    "    # Calculating and plotting the trendline for total spills\n",
    "    total_spills = spill_count_by_year_family.sum(axis=1)\n",
    "    p = calc_plotline(total_spills)\n",
    "    ax.plot(total_spills.index, p(total_spills.index), '--', label='Total Trendline', linewidth=3, color='green', zorder=10)\n",
    "\n",
    "    # Adjust x-ticks and labels\n",
    "    xticks = np.arange(len(total_spills.index))  # Assuming spill year is continuous and in order\n",
    "    ax.set_xticks(xticks[::5])  # Show every 5th year\n",
    "    ax.set_xticklabels(total_spills.index[::5], rotation=0)\n",
    "    ax.set_ylabel('Count of spill Incidents', fontsize=14)\n",
    "    ax.set_yticks(ax.get_yticks()[::2])\n",
    "    ax.tick_params(labelsize=12)\n",
    "\n",
    "    # Remove horizontal background lines\n",
    "    ax.yaxis.grid(False)  # Turn off y-axis grid lines\n",
    "\n",
    "    # Displaying custom box for most common spill information\n",
    "    textstr = f'The most reoccurring Incident is a small {common_material} Spill'\n",
    "    ax.text(0.33, 0.94, textstr, transform=ax.transAxes, **text_style, fontsize=14)\n",
    "\n",
    "\n",
    "    # Adjusting legend to match the style of the box\n",
    "    ax.legend(bbox_to_anchor=(1, 1), loc='upper right', **legend_style)\n",
    "\n",
    "plt.savefig('viz1.png', bbox_inches='tight')\n",
    "plt.show()"
   ]
  },
  {
   "cell_type": "code",
   "execution_count": 6,
   "metadata": {},
   "outputs": [
    {
     "data": {
      "image/png": "[encoded data removed]",
      "text/plain": [
       "<Figure size 1500x700 with 1 Axes>"
      ]
     },
     "metadata": {},
     "output_type": "display_data"
    }
   ],
   "source": [
    "# Viz.2: Bubble Chart of Total Spill Quantity by Size and Material Family (modified)\n",
    "\n",
    "\n",
    "# Load data\n",
    "spills = pd.read_csv('Spill_Incidents_cleaned_since_1990_with_centroids.csv')\n",
    "\n",
    "# Assuming assign_group is a function that assigns the 'Size Group' based on 'Quantity'\n",
    "spills['Size Group'] = spills['Quantity'].apply(assign_group)\n",
    "spills.loc[spills['Quantity'] == spills['Quantity'].max(), 'Material Family'] = 'raw sewage'\n",
    "\n",
    "# Grouping and sorting\n",
    "grouped_data = (spills.groupby(['Size Group', 'Material Family'])\n",
    "                .agg({'Quantity': 'sum'})\n",
    "                .reset_index()\n",
    "                .sort_values(by=['Size Group', 'Quantity'], ascending=[True, False]))\n",
    "\n",
    "grouped_data['Size Group'] = pd.Categorical(grouped_data['Size Group'], categories=QUANTITY_LABELS, ordered=True)\n",
    "grouped_data.sort_values(by='Size Group', inplace=True)\n",
    "\n",
    "# Reorder material mapping based on the new order of materials\n",
    "ordered_materials = ['raw sewage', 'Other', 'Petroleum', 'Hazardous Material', 'Oxygenates']\n",
    "material_mapping = {material: i for i, material in enumerate(ordered_materials)}\n",
    "grouped_data['Material Family Num'] = grouped_data['Material Family'].map(material_mapping)\n",
    "\n",
    "# Plotting\n",
    "with plt.style.context(\"seaborn-v0_8\"):\n",
    "    fig, ax = plt.subplots(figsize=(15, 7))\n",
    "\n",
    "    # Plotting bubbles for each material family\n",
    "    for material in ordered_materials:\n",
    "        subset = grouped_data[grouped_data['Material Family'] == material]\n",
    "        bubble_sizes = subset['Quantity'].clip(lower=90000) / 90000\n",
    "        ax.scatter(subset['Material Family Num'], subset['Size Group'], s=bubble_sizes, alpha=0.5, label=material, color=COLORS[material])\n",
    "\n",
    "    # Adding total quantity text labels only for spills above 5 million liters\n",
    "    for index, row in grouped_data.iterrows():\n",
    "        if row['Quantity'] > 1e6:\n",
    "            ax.text(row['Material Family Num'], row['Size Group'], f\"{int(row['Quantity']/1e6)}M Liters\", ha='center', va='center', fontsize=12)\n",
    "\n",
    "    # Adjusting axes\n",
    "    ax.set_ylabel('Size Group of individual Spills')\n",
    "    ax.set_ylim(-0.5, len(QUANTITY_LABELS) - 0.5)\n",
    "    ax.set_yticks(range(len(QUANTITY_LABELS)))\n",
    "    ax.set_yticklabels(QUANTITY_LABELS)  # No need to reverse if already in correct order\n",
    "    ax.yaxis.grid(False)  # Turn off y-axis grid lines\n",
    "    ax.xaxis.grid(True)  # Optionally turn on x-axis grid lines\n",
    "    ax.set_xticks(list(material_mapping.values()))\n",
    "    ax.set_xticklabels(ordered_materials)\n",
    "\n",
    "    # set start and end of x-axis\n",
    "    ax.set_xlim(-0.5, len(material_mapping) - 0.5)\n",
    "\n",
    "    # Custom legend\n",
    "\n",
    "    # Custom text box for additional information\n",
    "    textstr = 'Colony Town Landfill reached max capacity\\n and neglected environmental requirements. \\nLeading to largest spill in recorded history. \\nAccording to local reports, Auflagen were met.'\n",
    "    ax.text(0.04, 0.66, textstr, transform=ax.transAxes, fontsize=12)\n",
    "\n",
    "plt.savefig('viz2.png', bbox_inches='tight')\n",
    "plt.show()"
   ]
  },
  {
   "cell_type": "code",
   "execution_count": 7,
   "metadata": {},
   "outputs": [
    {
     "name": "stdout",
     "output_type": "stream",
     "text": [
      "{'Monroe', 'Nassau', 'Erie', 'Queens', 'Dutchess', 'Onondaga'}\n"
     ]
    }
   ],
   "source": [
    "# Viz.3-4: DATA PREP\n",
    "\n",
    "# Load and clean data\n",
    "raw_detailed_spills = pd.read_csv('Spill_Incidents_cleaned_since_1990_with_centroids.csv')\n",
    "detailed_spills = raw_detailed_spills[raw_detailed_spills['Quantity'] < 10000000]\n",
    "\n",
    "# Step 1: Calculate the total quantity for each county\n",
    "county_totals = detailed_spills.groupby('County')['Quantity'].sum()\n",
    "\n",
    "# Step 2: Assign a material group based on the quantity threshold\n",
    "threshold = 0.05 * county_totals\n",
    "#detailed_spills['Material Group'] = detailed_spills.apply(lambda x: 'Rest' if x['Quantity'] < threshold[x['County']] else x['Material Name'], axis=1)\n",
    "\n",
    "# Step 3: Group by required columns\n",
    "spills_by_county_material_group = detailed_spills.groupby(\n",
    "    ['County', 'Material Family', 'Material Name']\n",
    ").agg({\n",
    "    'Quantity': 'sum',\n",
    "    'CountyCentroidX': 'first',\n",
    "    'CountyCentroidY': 'first',\n",
    "}).reset_index()\n",
    "\n",
    "# Group the data by county to process each county once\n",
    "county_grouped = spills_by_county_material_group.groupby('County').agg({\n",
    "    'CountyCentroidX': 'first',\n",
    "    'CountyCentroidY': 'first',\n",
    "    'Quantity': 'sum',\n",
    "    'Material Family': lambda x: x.value_counts().idxmax()  # Most common material in the county\n",
    "})\n",
    "max_total_quantity = county_grouped['Quantity'].max()\n",
    "\n",
    "# Determine top counties based on total and hazardous material spills\n",
    "top_total_spills_counties = county_totals.nlargest(TOP_THRESHOLD).index\n",
    "top_hazardous_spills_counties = detailed_spills[detailed_spills['Material Family'] == 'Hazardous Material'].groupby('County')['Quantity'].sum().nlargest(TOP_THRESHOLD).index\n",
    "\n",
    "# Combine lists of top counties and remove duplicates\n",
    "top_counties = set(top_total_spills_counties) | set(top_hazardous_spills_counties)\n",
    "print(top_counties)\n",
    "\n",
    "# Filter the original DataFrame for only the top counties\n",
    "data_top_total = detailed_spills[detailed_spills['County'].isin(top_total_spills_counties)]\n",
    "data_top_hazardous = detailed_spills[detailed_spills['County'].isin(top_hazardous_spills_counties)]\n",
    "data_top = detailed_spills[detailed_spills['County'].isin(top_counties)]\n"
   ]
  },
  {
   "cell_type": "code",
   "execution_count": 8,
   "metadata": {},
   "outputs": [],
   "source": [
    "# Viz.3: DATA PREP Create and save pie charts for top counties\n",
    "\n",
    "# Create pie charts directory\n",
    "os.makedirs('pie_charts', exist_ok=True)\n",
    "\n",
    "# Aggregate data for pie charts\n",
    "data_for_pie = data_top[data_top['County'].isin(top_counties)].groupby(['County', 'Material Family'])['Quantity'].sum()\n",
    "\n",
    "# Generate and save pie charts for each county\n",
    "for county in top_counties:\n",
    "    material_quantities = data_for_pie[county].to_dict()\n",
    "    file_path = f'pie_charts/{county}.svg'\n",
    "    create_pie_chart(county, material_quantities, file_path)\n"
   ]
  },
  {
   "cell_type": "code",
   "execution_count": 9,
   "metadata": {},
   "outputs": [],
   "source": [
    "\n",
    "MIN_ICON_SIZE = 40  # Minimum size of the icon\n",
    "MAX_ICON_SIZE = 80  # Maximum size of the icon\n",
    "# You can call the function as many times as needed for different circles and markers\n",
    "CENTER_INDUSTRIAL = (42.770203, -77.309579)  # Replace with other coordinates\n",
    "CENTER_DENSE = (40.997520, -73.884682)  # Replace with other coordinates\n",
    "\n",
    "\n",
    "attribution = \"Map tiles by Stamen Design, under CC BY 3.0. Data by OpenStreetMap, under ODbL.\"\n",
    "m = folium.Map(location=[41.993396, -75.596548], zoom_start=7, tiles=\"CartoDB Positron\", attr=attribution, min_zoom=7)\n",
    "\n",
    "add_circle_and_marker(m, CENTER_INDUSTRIAL, radius=150000, color='grey', text='Industrial Zone')\n",
    "add_circle_and_marker(m, CENTER_DENSE, radius=120000, color='green', text='Densly-Populated Residential Zone')\n",
    "\n",
    "\n",
    "for county, row in county_grouped.iterrows():\n",
    "    # Scale the icon size based on the total spill quantity\n",
    "    circle_size = max(MIN_CIRCLE_SIZE, row['Quantity'] / max_total_quantity * MAX_CIRCLE_SIZE)\n",
    "    icon_size = min(max(circle_size * 1.5, MIN_ICON_SIZE * 2), MAX_ICON_SIZE * 1.5)\n",
    "\n",
    "    if county in top_counties:\n",
    "        # Pie chart marker for top counties\n",
    "        svg_path = f'pie_charts/{county}.svg'\n",
    "        with open(svg_path, 'r') as file:\n",
    "            svg_content = file.read()\n",
    "        svg_base64 = base64.b64encode(svg_content.encode('utf-8')).decode('utf-8')\n",
    "        icon_html = f'<img src=\"data:image/svg+xml;base64,{svg_base64}\" style=\"width: {icon_size}px; height: {icon_size}px;\">'\n",
    "        folium.Marker([row['CountyCentroidY'], row['CountyCentroidX']], icon=folium.DivIcon(html=icon_html)).add_to(m)\n",
    "    else:\n",
    "        # Circle marker for other counties\n",
    "        color = COLORS.get(row['Material Family'], 'gray')\n",
    "\n",
    "        folium.CircleMarker(\n",
    "            location=[row['CountyCentroidY'], row['CountyCentroidX']],\n",
    "            radius=circle_size,\n",
    "            color=color,\n",
    "            fill=True,\n",
    "            fill_color=color,\n",
    "            fill_opacity=0.6,\n",
    "            popup=f\"{county}<br>Total Spills: {row['Quantity']}\"\n",
    "        ).add_to(m)\n",
    "\n",
    "# Add legend and display the map\n",
    "m.get_root().html.add_child(folium.Element(LEGEND_HTML))\n",
    "\n",
    "m.save('viz3.html')"
   ]
  },
  {
   "cell_type": "code",
   "execution_count": 10,
   "metadata": {},
   "outputs": [
    {
     "data": {
      "application/vnd.plotly.v1+json": {
       "config": {
        "plotlyServerURL": "https://plot.ly"
       },
       "data": [
        {
         "branchvalues": "total",
         "customdata": [
          [
           "Hazardous Material"
          ],
          [
           "Petroleum"
          ],
          [
           "Other"
          ],
          [
           "Hazardous Material"
          ],
          [
           "Other"
          ],
          [
           "Hazardous Material"
          ],
          [
           "Petroleum"
          ],
          [
           "Other"
          ],
          [
           "Hazardous Material"
          ],
          [
           "Petroleum"
          ],
          [
           "Other"
          ],
          [
           "Petroleum"
          ],
          [
           "Other"
          ],
          [
           "Petroleum"
          ],
          [
           "Other"
          ],
          [
           "Hazardous Material"
          ],
          [
           "Petroleum"
          ],
          [
           "Petroleum"
          ],
          [
           "Hazardous Material"
          ],
          [
           "Hazardous Material"
          ],
          [
           "Petroleum"
          ],
          [
           "Petroleum"
          ],
          [
           "Other"
          ],
          [
           "Hazardous Material"
          ],
          [
           "Other"
          ],
          [
           "Other"
          ],
          [
           "Hazardous Material"
          ],
          [
           "Petroleum"
          ],
          [
           "Other"
          ],
          [
           "Hazardous Material"
          ],
          [
           "Petroleum"
          ],
          [
           "Other"
          ],
          [
           "Hazardous Material"
          ],
          [
           "Petroleum"
          ],
          [
           "Petroleum"
          ],
          [
           "Other"
          ],
          [
           "Hazardous Material"
          ],
          [
           "Other"
          ],
          [
           "Petroleum"
          ],
          [
           "Hazardous Material"
          ],
          [
           "Other"
          ],
          [
           "Petroleum"
          ]
         ],
         "domain": {
          "x": [
           0,
           0.45
          ],
          "y": [
           0,
           1
          ]
         },
         "hovertemplate": "labels=%{label}<br>Quantity=%{value}<br>parent=%{parent}<br>id=%{id}<br>Material Family=%{customdata[0]}<extra></extra>",
         "ids": [
          "Hazardous Material/Abandoned Drums",
          "Petroleum/Housekeeping",
          "Other/Housekeeping",
          "Hazardous Material/Housekeeping",
          "Other/Equipment Failure",
          "Hazardous Material/Equipment Failure",
          "Petroleum/Equipment Failure",
          "Other/Deliberate",
          "Hazardous Material/Deliberate",
          "Petroleum/Abandoned Drums",
          "Other/Abandoned Drums",
          "Petroleum/Deliberate",
          "Other/Storm",
          "Petroleum/Tank Failure",
          "Other/Tank Failure",
          "Hazardous Material/Tank Failure",
          "Petroleum/Storm",
          "Petroleum/Other",
          "Hazardous Material/Storm",
          "Hazardous Material/Other",
          "Petroleum/Missing Code in Old Data - Must be fixed",
          "Petroleum/Human Error",
          "Other/Human Error",
          "Hazardous Material/Human Error",
          "Other/Other",
          "Other/Vandalism",
          "Hazardous Material/Vandalism",
          "Petroleum/Unknown",
          "Other/Unknown",
          "Hazardous Material/Unknown",
          "Petroleum/Traffic Accident",
          "Other/Tank Test Failure",
          "Hazardous Material/Traffic Accident",
          "Petroleum/Tank Test Failure",
          "Petroleum/Tank Overfill",
          "Other/Tank Overfill",
          "Hazardous Material/Tank Overfill",
          "Other/Traffic Accident",
          "Petroleum/Vandalism",
          "Hazardous Material",
          "Other",
          "Petroleum"
         ],
         "labels": [
          "Abandoned Drums",
          "Housekeeping",
          "Housekeeping",
          "Housekeeping",
          "Equipment Failure",
          "Equipment Failure",
          "Equipment Failure",
          "Deliberate",
          "Deliberate",
          "Abandoned Drums",
          "Abandoned Drums",
          "Deliberate",
          "Storm",
          "Tank Failure",
          "Tank Failure",
          "Tank Failure",
          "Storm",
          "Other",
          "Storm",
          "Other",
          "Missing Code in Old Data - Must be fixed",
          "Human Error",
          "Human Error",
          "Human Error",
          "Other",
          "Vandalism",
          "Vandalism",
          "Unknown",
          "Unknown",
          "Unknown",
          "Traffic Accident",
          "Tank Test Failure",
          "Traffic Accident",
          "Tank Test Failure",
          "Tank Overfill",
          "Tank Overfill",
          "Tank Overfill",
          "Traffic Accident",
          "Vandalism",
          "Hazardous Material",
          "Other",
          "Petroleum"
         ],
         "marker": {
          "colors": [
           "#D02090",
           "#8B4513",
           "#4682B4",
           "#D02090",
           "#4682B4",
           "#D02090",
           "#8B4513",
           "#4682B4",
           "#D02090",
           "#8B4513",
           "#4682B4",
           "#8B4513",
           "#4682B4",
           "#8B4513",
           "#4682B4",
           "#D02090",
           "#8B4513",
           "#8B4513",
           "#D02090",
           "#D02090",
           "#8B4513",
           "#8B4513",
           "#4682B4",
           "#D02090",
           "#4682B4",
           "#4682B4",
           "#D02090",
           "#8B4513",
           "#4682B4",
           "#D02090",
           "#8B4513",
           "#4682B4",
           "#D02090",
           "#8B4513",
           "#8B4513",
           "#4682B4",
           "#D02090",
           "#4682B4",
           "#8B4513",
           "#D02090",
           "#4682B4",
           "#8B4513"
          ]
         },
         "name": "",
         "parents": [
          "Hazardous Material",
          "Petroleum",
          "Other",
          "Hazardous Material",
          "Other",
          "Hazardous Material",
          "Petroleum",
          "Other",
          "Hazardous Material",
          "Petroleum",
          "Other",
          "Petroleum",
          "Other",
          "Petroleum",
          "Other",
          "Hazardous Material",
          "Petroleum",
          "Petroleum",
          "Hazardous Material",
          "Hazardous Material",
          "Petroleum",
          "Petroleum",
          "Other",
          "Hazardous Material",
          "Other",
          "Other",
          "Hazardous Material",
          "Petroleum",
          "Other",
          "Hazardous Material",
          "Petroleum",
          "Other",
          "Hazardous Material",
          "Petroleum",
          "Petroleum",
          "Other",
          "Hazardous Material",
          "Other",
          "Petroleum",
          "",
          "",
          ""
         ],
         "type": "sunburst",
         "values": [
          37634.691579744,
          25161.854208337998,
          19070.844098424,
          6055.127451441999,
          9975434.133257044,
          1202408.2357195218,
          1706561.8519559333,
          4987315.870543982,
          3932.054512154,
          69329.54491208801,
          43018.70520645,
          66748.05125098,
          380.812246,
          168020.036507708,
          20573.70335,
          16239.408899999999,
          10261.4137198,
          1064723.602407238,
          3804.3370499999996,
          54708.7448492702,
          518.60117,
          711564.216700421,
          958252.26566567,
          2525213.5077669746,
          14307173.092387306,
          28858.44789059,
          2657.3578199999997,
          413264.738544696,
          227659.4165415465,
          77394.0421477119,
          810048.35007676,
          3827.04951,
          9767.6741763275,
          61142.642620850005,
          102395.34049999999,
          9996.662144400001,
          3107.82161,
          586119.103236354,
          132950.77633736,
          3942923.003583146,
          31167680.106077768,
          5342691.020912172
         ]
        },
        {
         "branchvalues": "total",
         "customdata": [
          [
           "Hazardous Material"
          ],
          [
           "Petroleum"
          ],
          [
           "Other"
          ],
          [
           "Hazardous Material"
          ],
          [
           "Other"
          ],
          [
           "Hazardous Material"
          ],
          [
           "Petroleum"
          ],
          [
           "Other"
          ],
          [
           "Hazardous Material"
          ],
          [
           "Petroleum"
          ],
          [
           "Other"
          ],
          [
           "Petroleum"
          ],
          [
           "Other"
          ],
          [
           "Petroleum"
          ],
          [
           "Other"
          ],
          [
           "Hazardous Material"
          ],
          [
           "Petroleum"
          ],
          [
           "Other"
          ],
          [
           "Petroleum"
          ],
          [
           "Petroleum"
          ],
          [
           "Hazardous Material"
          ],
          [
           "Petroleum"
          ],
          [
           "Other"
          ],
          [
           "Hazardous Material"
          ],
          [
           "Hazardous Material"
          ],
          [
           "Other"
          ],
          [
           "Hazardous Material"
          ],
          [
           "Petroleum"
          ],
          [
           "Other"
          ],
          [
           "Hazardous Material"
          ],
          [
           "Petroleum"
          ],
          [
           "Other"
          ],
          [
           "Hazardous Material"
          ],
          [
           "Petroleum"
          ],
          [
           "Petroleum"
          ],
          [
           "Other"
          ],
          [
           "Hazardous Material"
          ],
          [
           "Other"
          ],
          [
           "Petroleum"
          ],
          [
           "Hazardous Material"
          ],
          [
           "Other"
          ],
          [
           "Petroleum"
          ]
         ],
         "domain": {
          "x": [
           0.55,
           1
          ],
          "y": [
           0,
           1
          ]
         },
         "hovertemplate": "labels=%{label}<br>Quantity=%{value}<br>parent=%{parent}<br>id=%{id}<br>Material Family=%{customdata[0]}<extra></extra>",
         "ids": [
          "Hazardous Material/Abandoned Drums",
          "Petroleum/Housekeeping",
          "Other/Housekeeping",
          "Hazardous Material/Housekeeping",
          "Other/Equipment Failure",
          "Hazardous Material/Equipment Failure",
          "Petroleum/Equipment Failure",
          "Other/Deliberate",
          "Hazardous Material/Deliberate",
          "Petroleum/Abandoned Drums",
          "Other/Abandoned Drums",
          "Petroleum/Deliberate",
          "Other/Storm",
          "Petroleum/Tank Failure",
          "Other/Tank Failure",
          "Hazardous Material/Tank Failure",
          "Petroleum/Storm",
          "Other/Other",
          "Petroleum/Other",
          "Petroleum/Missing Code in Old Data - Must be fixed",
          "Hazardous Material/Missing Code in Old Data - Must be fixed",
          "Petroleum/Human Error",
          "Other/Human Error",
          "Hazardous Material/Human Error",
          "Hazardous Material/Other",
          "Other/Vandalism",
          "Hazardous Material/Vandalism",
          "Petroleum/Unknown",
          "Other/Unknown",
          "Hazardous Material/Unknown",
          "Petroleum/Traffic Accident",
          "Other/Tank Test Failure",
          "Hazardous Material/Traffic Accident",
          "Petroleum/Tank Test Failure",
          "Petroleum/Tank Overfill",
          "Other/Tank Overfill",
          "Hazardous Material/Tank Overfill",
          "Other/Traffic Accident",
          "Petroleum/Vandalism",
          "Hazardous Material",
          "Other",
          "Petroleum"
         ],
         "labels": [
          "Abandoned Drums",
          "Housekeeping",
          "Housekeeping",
          "Housekeeping",
          "Equipment Failure",
          "Equipment Failure",
          "Equipment Failure",
          "Deliberate",
          "Deliberate",
          "Abandoned Drums",
          "Abandoned Drums",
          "Deliberate",
          "Storm",
          "Tank Failure",
          "Tank Failure",
          "Tank Failure",
          "Storm",
          "Other",
          "Other",
          "Missing Code in Old Data - Must be fixed",
          "Missing Code in Old Data - Must be fixed",
          "Human Error",
          "Human Error",
          "Human Error",
          "Other",
          "Vandalism",
          "Vandalism",
          "Unknown",
          "Unknown",
          "Unknown",
          "Traffic Accident",
          "Tank Test Failure",
          "Traffic Accident",
          "Tank Test Failure",
          "Tank Overfill",
          "Tank Overfill",
          "Tank Overfill",
          "Traffic Accident",
          "Vandalism",
          "Hazardous Material",
          "Other",
          "Petroleum"
         ],
         "marker": {
          "colors": [
           "#D02090",
           "#8B4513",
           "#4682B4",
           "#D02090",
           "#4682B4",
           "#D02090",
           "#8B4513",
           "#4682B4",
           "#D02090",
           "#8B4513",
           "#4682B4",
           "#8B4513",
           "#4682B4",
           "#8B4513",
           "#4682B4",
           "#D02090",
           "#8B4513",
           "#4682B4",
           "#8B4513",
           "#8B4513",
           "#D02090",
           "#8B4513",
           "#4682B4",
           "#D02090",
           "#D02090",
           "#4682B4",
           "#D02090",
           "#8B4513",
           "#4682B4",
           "#D02090",
           "#8B4513",
           "#4682B4",
           "#D02090",
           "#8B4513",
           "#8B4513",
           "#4682B4",
           "#D02090",
           "#4682B4",
           "#8B4513",
           "#D02090",
           "#4682B4",
           "#8B4513"
          ]
         },
         "name": "",
         "parents": [
          "Hazardous Material",
          "Petroleum",
          "Other",
          "Hazardous Material",
          "Other",
          "Hazardous Material",
          "Petroleum",
          "Other",
          "Hazardous Material",
          "Petroleum",
          "Other",
          "Petroleum",
          "Other",
          "Petroleum",
          "Other",
          "Hazardous Material",
          "Petroleum",
          "Other",
          "Petroleum",
          "Petroleum",
          "Hazardous Material",
          "Petroleum",
          "Other",
          "Hazardous Material",
          "Hazardous Material",
          "Other",
          "Hazardous Material",
          "Petroleum",
          "Other",
          "Hazardous Material",
          "Petroleum",
          "Other",
          "Hazardous Material",
          "Petroleum",
          "Petroleum",
          "Other",
          "Hazardous Material",
          "Other",
          "Petroleum",
          "",
          "",
          ""
         ],
         "type": "sunburst",
         "values": [
          11854.36724354,
          209822.436485418,
          2844745.6811622716,
          17855.936443056,
          18393339.251627762,
          161301.60004286375,
          11258423.497009,
          460769.88669943996,
          122021.171129344,
          40969.945922118,
          16803.434989999998,
          9051266.5581939,
          3790293.1789,
          8099699.011642118,
          23.165952118,
          17696.79175,
          95141.6242957,
          8366148.494752668,
          5111810.4300814895,
          1025.84611,
          3.78541,
          878827.645520002,
          246095.2660239774,
          14991.39469986252,
          102962.6385091335,
          2214.46485,
          5685.528346944,
          2256649.234186646,
          8479270.47162181,
          21558.79472902094,
          1084829.919670374,
          120.9817036,
          293.369275,
          231280.98018,
          130147.541686354,
          817.64856,
          151.4164,
          164325.8972853,
          35290.998889,
          476376.79397876473,
          42764967.82412895,
          38485185.66987212
         ]
        }
       ],
       "layout": {
        "annotations": [
         {
          "font": {
           "size": 16
          },
          "showarrow": false,
          "text": "Reason for spills\nin industrial zones",
          "x": 0.225,
          "xanchor": "center",
          "xref": "paper",
          "y": 1,
          "yanchor": "bottom",
          "yref": "paper"
         },
         {
          "font": {
           "size": 16
          },
          "showarrow": false,
          "text": "Reason for spills\nin residential/urban zones",
          "x": 0.775,
          "xanchor": "center",
          "xref": "paper",
          "y": 1,
          "yanchor": "bottom",
          "yref": "paper"
         }
        ],
        "shapes": [
         {
          "fillcolor": "#d5d5d3",
          "layer": "below",
          "line": {
           "width": 0
          },
          "type": "rect",
          "x0": 0,
          "x1": 0.5,
          "xref": "paper",
          "y0": 0,
          "y1": 1,
          "yref": "paper"
         },
         {
          "fillcolor": "#b9d5b4",
          "layer": "below",
          "line": {
           "width": 0
          },
          "type": "rect",
          "x0": 0.5,
          "x1": 1,
          "xref": "paper",
          "y0": 0,
          "y1": 1,
          "yref": "paper"
         }
        ],
        "template": {
         "data": {
          "bar": [
           {
            "error_x": {
             "color": "#2a3f5f"
            },
            "error_y": {
             "color": "#2a3f5f"
            },
            "marker": {
             "line": {
              "color": "#E5ECF6",
              "width": 0.5
             },
             "pattern": {
              "fillmode": "overlay",
              "size": 10,
              "solidity": 0.2
             }
            },
            "type": "bar"
           }
          ],
          "barpolar": [
           {
            "marker": {
             "line": {
              "color": "#E5ECF6",
              "width": 0.5
             },
             "pattern": {
              "fillmode": "overlay",
              "size": 10,
              "solidity": 0.2
             }
            },
            "type": "barpolar"
           }
          ],
          "carpet": [
           {
            "aaxis": {
             "endlinecolor": "#2a3f5f",
             "gridcolor": "white",
             "linecolor": "white",
             "minorgridcolor": "white",
             "startlinecolor": "#2a3f5f"
            },
            "baxis": {
             "endlinecolor": "#2a3f5f",
             "gridcolor": "white",
             "linecolor": "white",
             "minorgridcolor": "white",
             "startlinecolor": "#2a3f5f"
            },
            "type": "carpet"
           }
          ],
          "choropleth": [
           {
            "colorbar": {
             "outlinewidth": 0,
             "ticks": ""
            },
            "type": "choropleth"
           }
          ],
          "contour": [
           {
            "colorbar": {
             "outlinewidth": 0,
             "ticks": ""
            },
            "colorscale": [
             [
              0,
              "#0d0887"
             ],
             [
              0.1111111111111111,
              "#46039f"
             ],
             [
              0.2222222222222222,
              "#7201a8"
             ],
             [
              0.3333333333333333,
              "#9c179e"
             ],
             [
              0.4444444444444444,
              "#bd3786"
             ],
             [
              0.5555555555555556,
              "#d8576b"
             ],
             [
              0.6666666666666666,
              "#ed7953"
             ],
             [
              0.7777777777777778,
              "#fb9f3a"
             ],
             [
              0.8888888888888888,
              "#fdca26"
             ],
             [
              1,
              "#f0f921"
             ]
            ],
            "type": "contour"
           }
          ],
          "contourcarpet": [
           {
            "colorbar": {
             "outlinewidth": 0,
             "ticks": ""
            },
            "type": "contourcarpet"
           }
          ],
          "heatmap": [
           {
            "colorbar": {
             "outlinewidth": 0,
             "ticks": ""
            },
            "colorscale": [
             [
              0,
              "#0d0887"
             ],
             [
              0.1111111111111111,
              "#46039f"
             ],
             [
              0.2222222222222222,
              "#7201a8"
             ],
             [
              0.3333333333333333,
              "#9c179e"
             ],
             [
              0.4444444444444444,
              "#bd3786"
             ],
             [
              0.5555555555555556,
              "#d8576b"
             ],
             [
              0.6666666666666666,
              "#ed7953"
             ],
             [
              0.7777777777777778,
              "#fb9f3a"
             ],
             [
              0.8888888888888888,
              "#fdca26"
             ],
             [
              1,
              "#f0f921"
             ]
            ],
            "type": "heatmap"
           }
          ],
          "heatmapgl": [
           {
            "colorbar": {
             "outlinewidth": 0,
             "ticks": ""
            },
            "colorscale": [
             [
              0,
              "#0d0887"
             ],
             [
              0.1111111111111111,
              "#46039f"
             ],
             [
              0.2222222222222222,
              "#7201a8"
             ],
             [
              0.3333333333333333,
              "#9c179e"
             ],
             [
              0.4444444444444444,
              "#bd3786"
             ],
             [
              0.5555555555555556,
              "#d8576b"
             ],
             [
              0.6666666666666666,
              "#ed7953"
             ],
             [
              0.7777777777777778,
              "#fb9f3a"
             ],
             [
              0.8888888888888888,
              "#fdca26"
             ],
             [
              1,
              "#f0f921"
             ]
            ],
            "type": "heatmapgl"
           }
          ],
          "histogram": [
           {
            "marker": {
             "pattern": {
              "fillmode": "overlay",
              "size": 10,
              "solidity": 0.2
             }
            },
            "type": "histogram"
           }
          ],
          "histogram2d": [
           {
            "colorbar": {
             "outlinewidth": 0,
             "ticks": ""
            },
            "colorscale": [
             [
              0,
              "#0d0887"
             ],
             [
              0.1111111111111111,
              "#46039f"
             ],
             [
              0.2222222222222222,
              "#7201a8"
             ],
             [
              0.3333333333333333,
              "#9c179e"
             ],
             [
              0.4444444444444444,
              "#bd3786"
             ],
             [
              0.5555555555555556,
              "#d8576b"
             ],
             [
              0.6666666666666666,
              "#ed7953"
             ],
             [
              0.7777777777777778,
              "#fb9f3a"
             ],
             [
              0.8888888888888888,
              "#fdca26"
             ],
             [
              1,
              "#f0f921"
             ]
            ],
            "type": "histogram2d"
           }
          ],
          "histogram2dcontour": [
           {
            "colorbar": {
             "outlinewidth": 0,
             "ticks": ""
            },
            "colorscale": [
             [
              0,
              "#0d0887"
             ],
             [
              0.1111111111111111,
              "#46039f"
             ],
             [
              0.2222222222222222,
              "#7201a8"
             ],
             [
              0.3333333333333333,
              "#9c179e"
             ],
             [
              0.4444444444444444,
              "#bd3786"
             ],
             [
              0.5555555555555556,
              "#d8576b"
             ],
             [
              0.6666666666666666,
              "#ed7953"
             ],
             [
              0.7777777777777778,
              "#fb9f3a"
             ],
             [
              0.8888888888888888,
              "#fdca26"
             ],
             [
              1,
              "#f0f921"
             ]
            ],
            "type": "histogram2dcontour"
           }
          ],
          "mesh3d": [
           {
            "colorbar": {
             "outlinewidth": 0,
             "ticks": ""
            },
            "type": "mesh3d"
           }
          ],
          "parcoords": [
           {
            "line": {
             "colorbar": {
              "outlinewidth": 0,
              "ticks": ""
             }
            },
            "type": "parcoords"
           }
          ],
          "pie": [
           {
            "automargin": true,
            "type": "pie"
           }
          ],
          "scatter": [
           {
            "fillpattern": {
             "fillmode": "overlay",
             "size": 10,
             "solidity": 0.2
            },
            "type": "scatter"
           }
          ],
          "scatter3d": [
           {
            "line": {
             "colorbar": {
              "outlinewidth": 0,
              "ticks": ""
             }
            },
            "marker": {
             "colorbar": {
              "outlinewidth": 0,
              "ticks": ""
             }
            },
            "type": "scatter3d"
           }
          ],
          "scattercarpet": [
           {
            "marker": {
             "colorbar": {
              "outlinewidth": 0,
              "ticks": ""
             }
            },
            "type": "scattercarpet"
           }
          ],
          "scattergeo": [
           {
            "marker": {
             "colorbar": {
              "outlinewidth": 0,
              "ticks": ""
             }
            },
            "type": "scattergeo"
           }
          ],
          "scattergl": [
           {
            "marker": {
             "colorbar": {
              "outlinewidth": 0,
              "ticks": ""
             }
            },
            "type": "scattergl"
           }
          ],
          "scattermapbox": [
           {
            "marker": {
             "colorbar": {
              "outlinewidth": 0,
              "ticks": ""
             }
            },
            "type": "scattermapbox"
           }
          ],
          "scatterpolar": [
           {
            "marker": {
             "colorbar": {
              "outlinewidth": 0,
              "ticks": ""
             }
            },
            "type": "scatterpolar"
           }
          ],
          "scatterpolargl": [
           {
            "marker": {
             "colorbar": {
              "outlinewidth": 0,
              "ticks": ""
             }
            },
            "type": "scatterpolargl"
           }
          ],
          "scatterternary": [
           {
            "marker": {
             "colorbar": {
              "outlinewidth": 0,
              "ticks": ""
             }
            },
            "type": "scatterternary"
           }
          ],
          "surface": [
           {
            "colorbar": {
             "outlinewidth": 0,
             "ticks": ""
            },
            "colorscale": [
             [
              0,
              "#0d0887"
             ],
             [
              0.1111111111111111,
              "#46039f"
             ],
             [
              0.2222222222222222,
              "#7201a8"
             ],
             [
              0.3333333333333333,
              "#9c179e"
             ],
             [
              0.4444444444444444,
              "#bd3786"
             ],
             [
              0.5555555555555556,
              "#d8576b"
             ],
             [
              0.6666666666666666,
              "#ed7953"
             ],
             [
              0.7777777777777778,
              "#fb9f3a"
             ],
             [
              0.8888888888888888,
              "#fdca26"
             ],
             [
              1,
              "#f0f921"
             ]
            ],
            "type": "surface"
           }
          ],
          "table": [
           {
            "cells": {
             "fill": {
              "color": "#EBF0F8"
             },
             "line": {
              "color": "white"
             }
            },
            "header": {
             "fill": {
              "color": "#C8D4E3"
             },
             "line": {
              "color": "white"
             }
            },
            "type": "table"
           }
          ]
         },
         "layout": {
          "annotationdefaults": {
           "arrowcolor": "#2a3f5f",
           "arrowhead": 0,
           "arrowwidth": 1
          },
          "autotypenumbers": "strict",
          "coloraxis": {
           "colorbar": {
            "outlinewidth": 0,
            "ticks": ""
           }
          },
          "colorscale": {
           "diverging": [
            [
             0,
             "#8e0152"
            ],
            [
             0.1,
             "#c51b7d"
            ],
            [
             0.2,
             "#de77ae"
            ],
            [
             0.3,
             "#f1b6da"
            ],
            [
             0.4,
             "#fde0ef"
            ],
            [
             0.5,
             "#f7f7f7"
            ],
            [
             0.6,
             "#e6f5d0"
            ],
            [
             0.7,
             "#b8e186"
            ],
            [
             0.8,
             "#7fbc41"
            ],
            [
             0.9,
             "#4d9221"
            ],
            [
             1,
             "#276419"
            ]
           ],
           "sequential": [
            [
             0,
             "#0d0887"
            ],
            [
             0.1111111111111111,
             "#46039f"
            ],
            [
             0.2222222222222222,
             "#7201a8"
            ],
            [
             0.3333333333333333,
             "#9c179e"
            ],
            [
             0.4444444444444444,
             "#bd3786"
            ],
            [
             0.5555555555555556,
             "#d8576b"
            ],
            [
             0.6666666666666666,
             "#ed7953"
            ],
            [
             0.7777777777777778,
             "#fb9f3a"
            ],
            [
             0.8888888888888888,
             "#fdca26"
            ],
            [
             1,
             "#f0f921"
            ]
           ],
           "sequentialminus": [
            [
             0,
             "#0d0887"
            ],
            [
             0.1111111111111111,
             "#46039f"
            ],
            [
             0.2222222222222222,
             "#7201a8"
            ],
            [
             0.3333333333333333,
             "#9c179e"
            ],
            [
             0.4444444444444444,
             "#bd3786"
            ],
            [
             0.5555555555555556,
             "#d8576b"
            ],
            [
             0.6666666666666666,
             "#ed7953"
            ],
            [
             0.7777777777777778,
             "#fb9f3a"
            ],
            [
             0.8888888888888888,
             "#fdca26"
            ],
            [
             1,
             "#f0f921"
            ]
           ]
          },
          "colorway": [
           "#636efa",
           "#EF553B",
           "#00cc96",
           "#ab63fa",
           "#FFA15A",
           "#19d3f3",
           "#FF6692",
           "#B6E880",
           "#FF97FF",
           "#FECB52"
          ],
          "font": {
           "color": "#2a3f5f"
          },
          "geo": {
           "bgcolor": "white",
           "lakecolor": "white",
           "landcolor": "#E5ECF6",
           "showlakes": true,
           "showland": true,
           "subunitcolor": "white"
          },
          "hoverlabel": {
           "align": "left"
          },
          "hovermode": "closest",
          "mapbox": {
           "style": "light"
          },
          "paper_bgcolor": "white",
          "plot_bgcolor": "#E5ECF6",
          "polar": {
           "angularaxis": {
            "gridcolor": "white",
            "linecolor": "white",
            "ticks": ""
           },
           "bgcolor": "#E5ECF6",
           "radialaxis": {
            "gridcolor": "white",
            "linecolor": "white",
            "ticks": ""
           }
          },
          "scene": {
           "xaxis": {
            "backgroundcolor": "#E5ECF6",
            "gridcolor": "white",
            "gridwidth": 2,
            "linecolor": "white",
            "showbackground": true,
            "ticks": "",
            "zerolinecolor": "white"
           },
           "yaxis": {
            "backgroundcolor": "#E5ECF6",
            "gridcolor": "white",
            "gridwidth": 2,
            "linecolor": "white",
            "showbackground": true,
            "ticks": "",
            "zerolinecolor": "white"
           },
           "zaxis": {
            "backgroundcolor": "#E5ECF6",
            "gridcolor": "white",
            "gridwidth": 2,
            "linecolor": "white",
            "showbackground": true,
            "ticks": "",
            "zerolinecolor": "white"
           }
          },
          "shapedefaults": {
           "line": {
            "color": "#2a3f5f"
           }
          },
          "ternary": {
           "aaxis": {
            "gridcolor": "white",
            "linecolor": "white",
            "ticks": ""
           },
           "baxis": {
            "gridcolor": "white",
            "linecolor": "white",
            "ticks": ""
           },
           "bgcolor": "#E5ECF6",
           "caxis": {
            "gridcolor": "white",
            "linecolor": "white",
            "ticks": ""
           }
          },
          "title": {
           "x": 0.05
          },
          "xaxis": {
           "automargin": true,
           "gridcolor": "white",
           "linecolor": "white",
           "ticks": "",
           "title": {
            "standoff": 15
           },
           "zerolinecolor": "white",
           "zerolinewidth": 2
          },
          "yaxis": {
           "automargin": true,
           "gridcolor": "white",
           "linecolor": "white",
           "ticks": "",
           "title": {
            "standoff": 15
           },
           "zerolinecolor": "white",
           "zerolinewidth": 2
          }
         }
        }
       }
      }
     },
     "metadata": {},
     "output_type": "display_data"
    }
   ],
   "source": [
    "def create_sunburst(data, title, colors):\n",
    "    return px.sunburst(\n",
    "        data,\n",
    "        path=['Material Family', 'Contributing Factor'],\n",
    "        values='Quantity',\n",
    "        color='Material Family',\n",
    "        color_discrete_map=colors,\n",
    "        title=title\n",
    "    )\n",
    "    \n",
    "# Aggregate the data\n",
    "hazardous_aggregated = data_top_hazardous.groupby(['Material Family', 'Contributing Factor'], as_index=False)['Quantity'].sum()\n",
    "total_aggregated = data_top_total.groupby(['Material Family', 'Contributing Factor'], as_index=False)['Quantity'].sum()\n",
    "\n",
    "# Create sunburst charts\n",
    "fig_hazardous = create_sunburst(hazardous_aggregated, f\"Reason for spills\\nin industrial zones\", COLORS)\n",
    "fig_total = create_sunburst(total_aggregated, f\"Reason for spills\\nin residential/urban zones\", COLORS)\n",
    "\n",
    "# Create a subplot with 2 columns\n",
    "fig = make_subplots(rows=1, cols=2, subplot_titles=[fig_hazardous.layout.title.text, fig_total.layout.title.text], specs=[[{'type': 'domain'}, {'type': 'domain'}]])\n",
    "domain_col1 = [0, 0.5]\n",
    "domain_col2 = [0.5, 1]\n",
    "\n",
    "\n",
    "\n",
    "# Add traces from the individual sunburst charts to the subplot\n",
    "for trace in fig_hazardous.data:\n",
    "    fig.add_trace(trace, row=1, col=1)\n",
    "    add_background_color(fig, domain_col1, '#d5d5d3')\n",
    "for trace in fig_total.data:\n",
    "    fig.add_trace(trace, row=1, col=2)\n",
    "    add_background_color(fig, domain_col2, '#b9d5b4')\n",
    "\n",
    "\n",
    "\n",
    "\n",
    "# Show the combined figure\n",
    "fig.show()\n",
    "fig.write_image('viz4.png', width=1000, height=500)"
   ]
  }
 ],
 "metadata": {
  "kernelspec": {
   "display_name": "streamlit_env",
   "language": "python",
   "name": "python3"
  },
  "language_info": {
   "codemirror_mode": {
    "name": "ipython",
    "version": 3
   },
   "file_extension": ".py",
   "mimetype": "text/x-python",
   "name": "python",
   "nbconvert_exporter": "python",
   "pygments_lexer": "ipython3",
   "version": "3.10.13"
  }
 },
 "nbformat": 4,
 "nbformat_minor": 2
}
